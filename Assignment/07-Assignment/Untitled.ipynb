{
 "cells": [
  {
   "cell_type": "code",
   "execution_count": null,
   "id": "d50f1a22-94d5-406c-8627-52cae9f0baf5",
   "metadata": {},
   "outputs": [
    {
     "name": "stdout",
     "output_type": "stream",
     "text": [
      "Server Listening on port 8000\n"
     ]
    }
   ],
   "source": []
  },
  {
   "cell_type": "code",
   "execution_count": null,
   "id": "be83a590-6309-42f8-b505-4ed7e42f2488",
   "metadata": {},
   "outputs": [],
   "source": [
    "from xmlrpc.client import ServerProxy\n",
    "\n",
    "client = ServerProxy(\"http://localhost:8001/\")\n",
    "result = client.add(10, 5)\n",
    "print(result)"
   ]
  },
  {
   "cell_type": "code",
   "execution_count": null,
   "id": "c958ae56-0bca-4526-a88b-437419eb367c",
   "metadata": {},
   "outputs": [],
   "source": []
  }
 ],
 "metadata": {
  "kernelspec": {
   "display_name": "Python 3 (ipykernel)",
   "language": "python",
   "name": "python3"
  },
  "language_info": {
   "codemirror_mode": {
    "name": "ipython",
    "version": 3
   },
   "file_extension": ".py",
   "mimetype": "text/x-python",
   "name": "python",
   "nbconvert_exporter": "python",
   "pygments_lexer": "ipython3",
   "version": "3.9.7"
  }
 },
 "nbformat": 4,
 "nbformat_minor": 5
}
